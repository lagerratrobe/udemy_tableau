{
 "cells": [
  {
   "cell_type": "code",
   "execution_count": 1,
   "metadata": {
    "collapsed": true
   },
   "outputs": [],
   "source": [
    "import pandas as pd"
   ]
  },
  {
   "cell_type": "code",
   "execution_count": 2,
   "metadata": {},
   "outputs": [
    {
     "name": "stdout",
     "output_type": "stream",
     "text": [
      "<class 'pandas.core.frame.DataFrame'>\n",
      "RangeIndex: 43 entries, 0 to 42\n",
      "Data columns (total 6 columns):\n",
      "OrderDate     43 non-null object\n",
      "Region        43 non-null object\n",
      "Rep           43 non-null object\n",
      "Item          43 non-null object\n",
      "Units         43 non-null int64\n",
      "Unit Price    43 non-null float64\n",
      "dtypes: float64(1), int64(1), object(4)\n",
      "memory usage: 2.1+ KB\n"
     ]
    }
   ],
   "source": [
    "supplies_df = pd.read_csv('OfficeSupplies_MAC.csv')\n",
    "supplies_df.info()"
   ]
  },
  {
   "cell_type": "code",
   "execution_count": 3,
   "metadata": {},
   "outputs": [
    {
     "data": {
      "text/html": [
       "<div>\n",
       "<style>\n",
       "    .dataframe thead tr:only-child th {\n",
       "        text-align: right;\n",
       "    }\n",
       "\n",
       "    .dataframe thead th {\n",
       "        text-align: left;\n",
       "    }\n",
       "\n",
       "    .dataframe tbody tr th {\n",
       "        vertical-align: top;\n",
       "    }\n",
       "</style>\n",
       "<table border=\"1\" class=\"dataframe\">\n",
       "  <thead>\n",
       "    <tr style=\"text-align: right;\">\n",
       "      <th></th>\n",
       "      <th>OrderDate</th>\n",
       "      <th>Region</th>\n",
       "      <th>Rep</th>\n",
       "      <th>Item</th>\n",
       "      <th>Units</th>\n",
       "      <th>Unit Price</th>\n",
       "    </tr>\n",
       "  </thead>\n",
       "  <tbody>\n",
       "    <tr>\n",
       "      <th>0</th>\n",
       "      <td>4-Jul-2014</td>\n",
       "      <td>East</td>\n",
       "      <td>Richard</td>\n",
       "      <td>Pen Set</td>\n",
       "      <td>62</td>\n",
       "      <td>4.99</td>\n",
       "    </tr>\n",
       "    <tr>\n",
       "      <th>1</th>\n",
       "      <td>12-Jul-2014</td>\n",
       "      <td>East</td>\n",
       "      <td>Nick</td>\n",
       "      <td>Binder</td>\n",
       "      <td>29</td>\n",
       "      <td>1.99</td>\n",
       "    </tr>\n",
       "  </tbody>\n",
       "</table>\n",
       "</div>"
      ],
      "text/plain": [
       "     OrderDate Region      Rep     Item  Units  Unit Price\n",
       "0   4-Jul-2014   East  Richard  Pen Set     62        4.99\n",
       "1  12-Jul-2014   East     Nick   Binder     29        1.99"
      ]
     },
     "execution_count": 3,
     "metadata": {},
     "output_type": "execute_result"
    }
   ],
   "source": [
    "supplies_df.head(2)"
   ]
  },
  {
   "cell_type": "code",
   "execution_count": 14,
   "metadata": {},
   "outputs": [
    {
     "data": {
      "text/html": [
       "<div>\n",
       "<style>\n",
       "    .dataframe thead tr:only-child th {\n",
       "        text-align: right;\n",
       "    }\n",
       "\n",
       "    .dataframe thead th {\n",
       "        text-align: left;\n",
       "    }\n",
       "\n",
       "    .dataframe tbody tr th {\n",
       "        vertical-align: top;\n",
       "    }\n",
       "</style>\n",
       "<table border=\"1\" class=\"dataframe\">\n",
       "  <thead>\n",
       "    <tr style=\"text-align: right;\">\n",
       "      <th></th>\n",
       "      <th>OrderDate</th>\n",
       "      <th>Region</th>\n",
       "      <th>Rep</th>\n",
       "      <th>Item</th>\n",
       "      <th>Units</th>\n",
       "      <th>Unit Price</th>\n",
       "      <th>new_date</th>\n",
       "    </tr>\n",
       "  </thead>\n",
       "  <tbody>\n",
       "    <tr>\n",
       "      <th>0</th>\n",
       "      <td>4-Jul-2014</td>\n",
       "      <td>East</td>\n",
       "      <td>Richard</td>\n",
       "      <td>Pen Set</td>\n",
       "      <td>62</td>\n",
       "      <td>4.99</td>\n",
       "      <td>2014-07-04</td>\n",
       "    </tr>\n",
       "    <tr>\n",
       "      <th>1</th>\n",
       "      <td>12-Jul-2014</td>\n",
       "      <td>East</td>\n",
       "      <td>Nick</td>\n",
       "      <td>Binder</td>\n",
       "      <td>29</td>\n",
       "      <td>1.99</td>\n",
       "      <td>2014-07-12</td>\n",
       "    </tr>\n",
       "  </tbody>\n",
       "</table>\n",
       "</div>"
      ],
      "text/plain": [
       "     OrderDate Region      Rep     Item  Units  Unit Price   new_date\n",
       "0   4-Jul-2014   East  Richard  Pen Set     62        4.99 2014-07-04\n",
       "1  12-Jul-2014   East     Nick   Binder     29        1.99 2014-07-12"
      ]
     },
     "execution_count": 14,
     "metadata": {},
     "output_type": "execute_result"
    }
   ],
   "source": [
    "# Coerce string version of OrderDate into datetime column. Note %b for month abbrev.\n",
    "supplies_df['new_date'] = pd.to_datetime(supplies_df['OrderDate'], format='%d-%b-%Y', errors='ignore')\n",
    "supplies_df.head(2)"
   ]
  },
  {
   "cell_type": "code",
   "execution_count": 27,
   "metadata": {},
   "outputs": [
    {
     "data": {
      "text/plain": [
       "0      Friday\n",
       "1    Saturday\n",
       "Name: new_date, dtype: object"
      ]
     },
     "execution_count": 27,
     "metadata": {},
     "output_type": "execute_result"
    }
   ],
   "source": [
    "# And once we have a proper datetime field, we can do more interesting things with it.\n",
    "\n",
    "supplies_df['new_date'].dt.weekday_name.head(2)"
   ]
  },
  {
   "cell_type": "code",
   "execution_count": 24,
   "metadata": {},
   "outputs": [
    {
     "data": {
      "text/plain": [
       "['__bytes__',\n",
       " '__class__',\n",
       " '__delattr__',\n",
       " '__dict__',\n",
       " '__dir__',\n",
       " '__doc__',\n",
       " '__eq__',\n",
       " '__format__',\n",
       " '__ge__',\n",
       " '__getattribute__',\n",
       " '__gt__',\n",
       " '__hash__',\n",
       " '__init__',\n",
       " '__init_subclass__',\n",
       " '__le__',\n",
       " '__lt__',\n",
       " '__module__',\n",
       " '__ne__',\n",
       " '__new__',\n",
       " '__reduce__',\n",
       " '__reduce_ex__',\n",
       " '__repr__',\n",
       " '__setattr__',\n",
       " '__sizeof__',\n",
       " '__str__',\n",
       " '__subclasshook__',\n",
       " '__unicode__',\n",
       " '__weakref__',\n",
       " '_add_delegate_accessors',\n",
       " '_constructor',\n",
       " '_delegate_method',\n",
       " '_delegate_property_get',\n",
       " '_delegate_property_set',\n",
       " '_dir_additions',\n",
       " '_dir_deletions',\n",
       " '_freeze',\n",
       " '_reset_cache',\n",
       " 'ceil',\n",
       " 'date',\n",
       " 'day',\n",
       " 'dayofweek',\n",
       " 'dayofyear',\n",
       " 'days_in_month',\n",
       " 'daysinmonth',\n",
       " 'floor',\n",
       " 'freq',\n",
       " 'hour',\n",
       " 'is_leap_year',\n",
       " 'is_month_end',\n",
       " 'is_month_start',\n",
       " 'is_quarter_end',\n",
       " 'is_quarter_start',\n",
       " 'is_year_end',\n",
       " 'is_year_start',\n",
       " 'microsecond',\n",
       " 'minute',\n",
       " 'month',\n",
       " 'nanosecond',\n",
       " 'normalize',\n",
       " 'quarter',\n",
       " 'round',\n",
       " 'second',\n",
       " 'strftime',\n",
       " 'time',\n",
       " 'to_period',\n",
       " 'to_pydatetime',\n",
       " 'tz',\n",
       " 'tz_convert',\n",
       " 'tz_localize',\n",
       " 'week',\n",
       " 'weekday',\n",
       " 'weekday_name',\n",
       " 'weekofyear',\n",
       " 'year']"
      ]
     },
     "execution_count": 24,
     "metadata": {},
     "output_type": "execute_result"
    }
   ],
   "source": [
    "dir(supplies_df['new_date'].dt)"
   ]
  }
 ],
 "metadata": {
  "kernelspec": {
   "display_name": "Python 3",
   "language": "python",
   "name": "python3"
  },
  "language_info": {
   "codemirror_mode": {
    "name": "ipython",
    "version": 3
   },
   "file_extension": ".py",
   "mimetype": "text/x-python",
   "name": "python",
   "nbconvert_exporter": "python",
   "pygments_lexer": "ipython3",
   "version": "3.6.3"
  }
 },
 "nbformat": 4,
 "nbformat_minor": 2
}
